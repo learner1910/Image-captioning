{
 "cells": [
  {
   "cell_type": "code",
   "execution_count": 4,
   "metadata": {},
   "outputs": [],
   "source": [
    "def unique_file():\n",
    "    input_file = open(r\"a-PyTorch-Tutorial-to-Image-Captioning/caption_dict_file.txt\", 'r')\n",
    "    file_contents = input_file.read()\n",
    "    input_file.close()\n",
    "    word_list = file_contents.split()\n",
    "    useless=['red','for','preparing','screen','line','lit','dimly','kinds','bikini','different','shaped','beautiful','pile','stop','stuffed','topped','neon','slicing','like','types','items','wooden','stack','small','many','sleeping','pairs','smile','short','silhouette','cooking','dark','legs','palm','light','smart','purple','kids','box','lot','other','open','signs','girls','brown','boys','herself','cat','various','tall','display','very','nintendo','near','board','covered','smiling','while','potted','large','lots','cutting','parked','train','small','blow','over','performing','horses','big','little','elephants','bear','drying','himself','blue','piece','sticker','some','furniture','filled','yellow','of','from','pink','through','reads','doorway','doing','table','middle','hand','court','posing','white','child','projection','beard','cloudy','cell','glass','flying','hot','plate','bench','plane','growing','silver','view','glasses','chair','shirt','out','persons','green','game','side','dining','bed','bears','remote','teeth','bat','game','video','flower','teddy','cap','hat','driving','suit','suits','little','tiled','book','mirror','black','start','is','sticking','flowers','rear','meter','tilted','skate','back','has','around','sign','desk','tongue','birds','clock','plane','room','himself','couch','control','giraffe','young','its','tennis','brushes','toothbrush','baseball','bird','across','racquet','people','bowl','bunch','clear','crowd','tooth','urinals','woman','women','man','men','boy','girl','racket','bathroom','scissors','vase','santa','flock','walking','parking','horse','front','pair','group','living','their','photo','one','two','three','four','reading','blurry','image','picture','each','to','laying','says','next','riding','looking','wearing','top','jumping','end','sitting','person','couple','sitting','standing','running','his','her','in','it','down','close','up','and','on','wii','with','that','at','using','eating','brushing','of','the','are','a','an','taking','holding','playing','talking']\n",
    "    file = open(r\"final_cap_The Big Bang Theory - Amy wants to join to Penny`s girls night.txt\", 'w')\n",
    "\n",
    "    unique_words = set(word_list)\n",
    "    for word in unique_words:\n",
    "        if word not in useless:\n",
    "            file.write(str(word) + \"\\n\")\n",
    "        \n",
    "    \n",
    "unique_file()"
   ]
  },
  {
   "cell_type": "code",
   "execution_count": null,
   "metadata": {},
   "outputs": [],
   "source": []
  }
 ],
 "metadata": {
  "kernelspec": {
   "display_name": "Python 3",
   "language": "python",
   "name": "python3"
  },
  "language_info": {
   "codemirror_mode": {
    "name": "ipython",
    "version": 3
   },
   "file_extension": ".py",
   "mimetype": "text/x-python",
   "name": "python",
   "nbconvert_exporter": "python",
   "pygments_lexer": "ipython3",
   "version": "3.8.5"
  }
 },
 "nbformat": 4,
 "nbformat_minor": 5
}
